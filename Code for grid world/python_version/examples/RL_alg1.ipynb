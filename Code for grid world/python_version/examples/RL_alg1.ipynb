{
 "cells": [
  {
   "cell_type": "code",
   "execution_count": null,
   "metadata": {},
   "outputs": [],
   "source": [
    "# set env"
   ]
  },
  {
   "cell_type": "code",
   "execution_count": 1,
   "metadata": {},
   "outputs": [
    {
     "ename": "TypeError",
     "evalue": "'<' not supported between instances of 'str' and 'int'",
     "output_type": "error",
     "traceback": [
      "\u001b[0;31m---------------------------------------------------------------------------\u001b[0m",
      "\u001b[0;31mTypeError\u001b[0m                                 Traceback (most recent call last)",
      "Cell \u001b[0;32mIn[1], line 3\u001b[0m\n\u001b[1;32m      1\u001b[0m \u001b[38;5;28;01mimport\u001b[39;00m \u001b[38;5;21;01msys\u001b[39;00m\n\u001b[1;32m      2\u001b[0m sys\u001b[38;5;241m.\u001b[39mpath\u001b[38;5;241m.\u001b[39mappend(\u001b[38;5;124m\"\u001b[39m\u001b[38;5;124m..\u001b[39m\u001b[38;5;124m\"\u001b[39m)\n\u001b[0;32m----> 3\u001b[0m \u001b[38;5;28;01mfrom\u001b[39;00m \u001b[38;5;21;01msrc\u001b[39;00m\u001b[38;5;21;01m.\u001b[39;00m\u001b[38;5;21;01mgrid_world\u001b[39;00m \u001b[38;5;28;01mimport\u001b[39;00m GridWorld\n\u001b[1;32m      4\u001b[0m \u001b[38;5;28;01mimport\u001b[39;00m \u001b[38;5;21;01mrandom\u001b[39;00m\n\u001b[1;32m      5\u001b[0m \u001b[38;5;28;01mimport\u001b[39;00m \u001b[38;5;21;01mnumpy\u001b[39;00m \u001b[38;5;28;01mas\u001b[39;00m \u001b[38;5;21;01mnp\u001b[39;00m\n",
      "File \u001b[0;32m/storage/zhangtao/project2024/RL_course_Shiyu/Code for grid world/python_version/examples/../src/grid_world.py:8\u001b[0m\n\u001b[1;32m      6\u001b[0m \u001b[38;5;28;01mimport\u001b[39;00m \u001b[38;5;21;01mmatplotlib\u001b[39;00m\u001b[38;5;21;01m.\u001b[39;00m\u001b[38;5;21;01mpyplot\u001b[39;00m \u001b[38;5;28;01mas\u001b[39;00m \u001b[38;5;21;01mplt\u001b[39;00m\n\u001b[1;32m      7\u001b[0m \u001b[38;5;28;01mimport\u001b[39;00m \u001b[38;5;21;01mmatplotlib\u001b[39;00m\u001b[38;5;21;01m.\u001b[39;00m\u001b[38;5;21;01mpatches\u001b[39;00m \u001b[38;5;28;01mas\u001b[39;00m \u001b[38;5;21;01mpatches\u001b[39;00m          \n\u001b[0;32m----> 8\u001b[0m \u001b[38;5;28;01mfrom\u001b[39;00m \u001b[38;5;21;01mexamples\u001b[39;00m\u001b[38;5;21;01m.\u001b[39;00m\u001b[38;5;21;01marguments\u001b[39;00m \u001b[38;5;28;01mimport\u001b[39;00m args           \n\u001b[1;32m     10\u001b[0m \u001b[38;5;28;01mclass\u001b[39;00m \u001b[38;5;21;01mGridWorld\u001b[39;00m():\n\u001b[1;32m     12\u001b[0m     \u001b[38;5;28;01mdef\u001b[39;00m \u001b[38;5;21m__init__\u001b[39m(\u001b[38;5;28mself\u001b[39m, env_size\u001b[38;5;241m=\u001b[39margs\u001b[38;5;241m.\u001b[39menv_size, \n\u001b[1;32m     13\u001b[0m                  start_state\u001b[38;5;241m=\u001b[39margs\u001b[38;5;241m.\u001b[39mstart_state, \n\u001b[1;32m     14\u001b[0m                  target_state\u001b[38;5;241m=\u001b[39margs\u001b[38;5;241m.\u001b[39mtarget_state, \n\u001b[1;32m     15\u001b[0m                  forbidden_states\u001b[38;5;241m=\u001b[39margs\u001b[38;5;241m.\u001b[39mforbidden_states):\n",
      "File \u001b[0;32m/storage/zhangtao/project2024/RL_course_Shiyu/Code for grid world/python_version/examples/../examples/arguments.py:53\u001b[0m\n\u001b[1;32m     51\u001b[0m             \u001b[38;5;28;01massert\u001b[39;00m forbidden_states[j][i] \u001b[38;5;241m<\u001b[39m env_size[i]\n\u001b[1;32m     52\u001b[0m \u001b[38;5;28;01mtry\u001b[39;00m:\n\u001b[0;32m---> 53\u001b[0m     \u001b[43mvalidate_environment_parameters\u001b[49m\u001b[43m(\u001b[49m\u001b[43margs\u001b[49m\u001b[38;5;241;43m.\u001b[39;49m\u001b[43menv_size\u001b[49m\u001b[43m,\u001b[49m\u001b[43m \u001b[49m\u001b[43margs\u001b[49m\u001b[38;5;241;43m.\u001b[39;49m\u001b[43mstart_state\u001b[49m\u001b[43m,\u001b[49m\u001b[43m \u001b[49m\u001b[43margs\u001b[49m\u001b[38;5;241;43m.\u001b[39;49m\u001b[43mtarget_state\u001b[49m\u001b[43m,\u001b[49m\u001b[43m \u001b[49m\u001b[43margs\u001b[49m\u001b[38;5;241;43m.\u001b[39;49m\u001b[43mforbidden_states\u001b[49m\u001b[43m)\u001b[49m\n\u001b[1;32m     54\u001b[0m \u001b[38;5;28;01mexcept\u001b[39;00m \u001b[38;5;167;01mValueError\u001b[39;00m \u001b[38;5;28;01mas\u001b[39;00m e:\n\u001b[1;32m     55\u001b[0m     \u001b[38;5;28mprint\u001b[39m(\u001b[38;5;124m\"\u001b[39m\u001b[38;5;124mError:\u001b[39m\u001b[38;5;124m\"\u001b[39m, e)\n",
      "File \u001b[0;32m/storage/zhangtao/project2024/RL_course_Shiyu/Code for grid world/python_version/examples/../examples/arguments.py:51\u001b[0m, in \u001b[0;36mvalidate_environment_parameters\u001b[0;34m(env_size, start_state, target_state, forbidden_states)\u001b[0m\n\u001b[1;32m     49\u001b[0m \u001b[38;5;28;01massert\u001b[39;00m target_state[i] \u001b[38;5;241m<\u001b[39m env_size[i]\n\u001b[1;32m     50\u001b[0m \u001b[38;5;28;01mfor\u001b[39;00m j \u001b[38;5;129;01min\u001b[39;00m \u001b[38;5;28mrange\u001b[39m(\u001b[38;5;28mlen\u001b[39m(forbidden_states)):\n\u001b[0;32m---> 51\u001b[0m     \u001b[38;5;28;01massert\u001b[39;00m \u001b[43mforbidden_states\u001b[49m\u001b[43m[\u001b[49m\u001b[43mj\u001b[49m\u001b[43m]\u001b[49m\u001b[43m[\u001b[49m\u001b[43mi\u001b[49m\u001b[43m]\u001b[49m\u001b[43m \u001b[49m\u001b[38;5;241;43m<\u001b[39;49m\u001b[43m \u001b[49m\u001b[43menv_size\u001b[49m\u001b[43m[\u001b[49m\u001b[43mi\u001b[49m\u001b[43m]\u001b[49m\n",
      "\u001b[0;31mTypeError\u001b[0m: '<' not supported between instances of 'str' and 'int'"
     ]
    }
   ],
   "source": [
    "\n",
    "import sys\n",
    "sys.path.append(\"..\")\n",
    "from src.grid_world import GridWorld\n",
    "import random\n",
    "import numpy as np\n",
    "import pdb\n",
    "# Example usage:          \n",
    "if __name__ == \"__main__\":             \n",
    "    env = GridWorld()\n",
    "    state = env.reset()               \n",
    "    for t in range(13):\n",
    "        env.render()\n",
    "        action = random.choice(env.action_space)\n",
    "        next_state, reward, done, info = env.step(action)\n",
    "        print(f\"Step: {t}, Action: {action}, State: {next_state+(np.array([1,1]))}, Reward: {reward}, Done: {done}\")\n",
    "        # if done:\n",
    "        #     break\n",
    "    \n",
    "    # Add policy\n",
    "    policy_matrix=np.random.rand(env.num_states,len(env.action_space))       # [25,5]                                      \n",
    "    policy_matrix /= policy_matrix.sum(axis=1)[:, np.newaxis]  # make the sum of elements in each row to be 1\n",
    "\n",
    "    env.add_policy(policy_matrix)\n",
    "\n",
    "    \n",
    "    # Add state values\n",
    "    values = np.random.uniform(0,10,(env.num_states,))\n",
    "    env.add_state_values(values) # [25,]\n",
    "\n",
    "    # Render the environment\n",
    "    env.render(animation_interval=2)"
   ]
  }
 ],
 "metadata": {
  "kernelspec": {
   "display_name": "ideEnv",
   "language": "python",
   "name": "python3"
  },
  "language_info": {
   "codemirror_mode": {
    "name": "ipython",
    "version": 3
   },
   "file_extension": ".py",
   "mimetype": "text/x-python",
   "name": "python",
   "nbconvert_exporter": "python",
   "pygments_lexer": "ipython3",
   "version": "3.12.5"
  }
 },
 "nbformat": 4,
 "nbformat_minor": 2
}
