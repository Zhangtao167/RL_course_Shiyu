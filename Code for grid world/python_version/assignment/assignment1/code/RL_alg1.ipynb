{
 "cells": [
  {
   "cell_type": "code",
   "execution_count": null,
   "metadata": {},
   "outputs": [],
   "source": [
    "# load packages"
   ]
  },
  {
   "cell_type": "code",
   "execution_count": null,
   "metadata": {},
   "outputs": [],
   "source": [
    "from typing import Union\n",
    "import numpy as np\n",
    "import argparse\n",
    "from collections import namedtuple\n",
    "\n",
    "# 创建 namedtuple 包装所有参数\n",
    "GridWorldSettings = namedtuple(\"GridWorldSettings\", [\n",
    "    \"env_size\", \"start_state\", \"target_state\", \"forbidden_states\", \n",
    "    \"reward_target\", \"reward_forbidden\", \"reward_step\", \n",
    "    \"action_space\", \"debug\", \"animation_interval\",\"results_path\"\n",
    "])\n",
    "\n",
    "# 默认的设置值\n",
    "default_settings = GridWorldSettings(\n",
    "    env_size=(5, 5),\n",
    "    start_state=(2, 2),\n",
    "    target_state=(4, 4),\n",
    "    forbidden_states=[(2, 1), (3, 3), (1, 3)],\n",
    "    reward_target=10.0,\n",
    "    reward_forbidden=-5.0,\n",
    "    reward_step=-1.0,\n",
    "    action_space=[(0, 1), (1, 0), (0, -1), (-1, 0), (0, 0)],  # down, right, up, left, stay\n",
    "    debug=False,\n",
    "    animation_interval=0.2,\n",
    "    results_path=\"/storage/zhangtao/project2024/RL_course_Shiyu/Code for grid world/python_version/assignment/assignment1/results\"\n",
    ")"
   ]
  },
  {
   "cell_type": "code",
   "execution_count": 14,
   "metadata": {},
   "outputs": [
    {
     "name": "stdout",
     "output_type": "stream",
     "text": [
      "Step: 5, Action: (0, 0), State: [4 3], Reward: -1.0, Done: False\n"
     ]
    },
    {
     "data": {
      "text/plain": [
       "<Figure size 640x480 with 0 Axes>"
      ]
     },
     "metadata": {},
     "output_type": "display_data"
    },
    {
     "name": "stdout",
     "output_type": "stream",
     "text": [
      "Step: 6, Action: (0, 1), State: [4 3], Reward: -5.0, Done: False\n"
     ]
    },
    {
     "data": {
      "text/plain": [
       "<Figure size 640x480 with 0 Axes>"
      ]
     },
     "metadata": {},
     "output_type": "display_data"
    },
    {
     "name": "stdout",
     "output_type": "stream",
     "text": [
      "Step: 7, Action: (0, -1), State: [4 2], Reward: -1.0, Done: False\n"
     ]
    },
    {
     "data": {
      "text/plain": [
       "<Figure size 640x480 with 0 Axes>"
      ]
     },
     "metadata": {},
     "output_type": "display_data"
    },
    {
     "name": "stdout",
     "output_type": "stream",
     "text": [
      "Step: 8, Action: (0, -1), State: [4 1], Reward: -1.0, Done: False\n"
     ]
    },
    {
     "data": {
      "text/plain": [
       "<Figure size 640x480 with 0 Axes>"
      ]
     },
     "metadata": {},
     "output_type": "display_data"
    },
    {
     "name": "stdout",
     "output_type": "stream",
     "text": [
      "Step: 9, Action: (-1, 0), State: [3 1], Reward: -1.0, Done: False\n"
     ]
    },
    {
     "data": {
      "text/plain": [
       "<Figure size 640x480 with 0 Axes>"
      ]
     },
     "metadata": {},
     "output_type": "display_data"
    },
    {
     "name": "stdout",
     "output_type": "stream",
     "text": [
      "Step: 10, Action: (0, 1), State: [3 1], Reward: -5.0, Done: False\n"
     ]
    },
    {
     "data": {
      "text/plain": [
       "<Figure size 640x480 with 0 Axes>"
      ]
     },
     "metadata": {},
     "output_type": "display_data"
    },
    {
     "name": "stdout",
     "output_type": "stream",
     "text": [
      "Step: 11, Action: (-1, 0), State: [2 1], Reward: -1.0, Done: False\n"
     ]
    },
    {
     "data": {
      "text/plain": [
       "<Figure size 640x480 with 0 Axes>"
      ]
     },
     "metadata": {},
     "output_type": "display_data"
    },
    {
     "name": "stdout",
     "output_type": "stream",
     "text": [
      "Step: 12, Action: (0, 0), State: [2 1], Reward: -1.0, Done: False\n"
     ]
    }
   ],
   "source": [
    "\n",
    "from grid_world import GridWorld\n",
    "import random\n",
    "import numpy as np\n",
    "import pdb\n",
    "# Example usage:          \n",
    "        \n",
    "env = GridWorld(args=default_settings)\n",
    "state = env.reset()               \n",
    "for t in range(13):\n",
    "    env.render()\n",
    "    action = random.choice(env.action_space)\n",
    "    next_state, reward, done, info = env.step(action)\n",
    "    print(f\"Step: {t}, Action: {action}, State: {next_state+(np.array([1,1]))}, Reward: {reward}, Done: {done}\")\n",
    "    # if done:\n",
    "    #     break\n",
    "\n"
   ]
  },
  {
   "cell_type": "code",
   "execution_count": 15,
   "metadata": {},
   "outputs": [
    {
     "data": {
      "image/png": "[encoded data removed]",
      "text/plain": [
       "<Figure size 640x480 with 1 Axes>"
      ]
     },
     "metadata": {},
     "output_type": "display_data"
    },
    {
     "data": {
      "text/plain": [
       "<Figure size 640x480 with 0 Axes>"
      ]
     },
     "metadata": {},
     "output_type": "display_data"
    }
   ],
   "source": [
    "env = GridWorld(args=default_settings)# Add policy\n",
    "env.reset()\n",
    "env.render()\n",
    "policy_matrix=np.random.rand(env.num_states,len(env.action_space))       # [25,5]                                      \n",
    "policy_matrix /= policy_matrix.sum(axis=1)[:, np.newaxis]  # make the sum of elements in each row to be 1\n",
    "\n",
    "env.add_policy(policy_matrix)\n",
    "\n",
    "\n",
    "# Add state values\n",
    "values = np.random.uniform(0,10,(env.num_states,))\n",
    "env.add_state_values(values) # [25,]\n",
    "\n",
    "# Render the environment\n",
    "env.render(animation_interval=2)\n",
    "\n"
   ]
  }
 ],
 "metadata": {
  "kernelspec": {
   "display_name": "ideEnv",
   "language": "python",
   "name": "python3"
  },
  "language_info": {
   "codemirror_mode": {
    "name": "ipython",
    "version": 3
   },
   "file_extension": ".py",
   "mimetype": "text/x-python",
   "name": "python",
   "nbconvert_exporter": "python",
   "pygments_lexer": "ipython3",
   "version": "3.12.5"
  }
 },
 "nbformat": 4,
 "nbformat_minor": 2
}
